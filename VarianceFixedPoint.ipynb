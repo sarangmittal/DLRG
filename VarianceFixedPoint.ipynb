{
 "cells": [
  {
   "cell_type": "code",
   "execution_count": 1,
   "metadata": {
    "collapsed": true
   },
   "outputs": [],
   "source": [
    "import numpy as np\n",
    "from scipy.integrate import quad\n",
    "import matplotlib.pyplot as plt\n",
    "\n",
    "# weightVar = 1.3**2\n",
    "\n",
    "# dataVar = 2.5**2\n",
    "# dataMean = 1\n",
    "\n",
    "n_hidden = 128.0\n",
    "n_dim = 3.0\n",
    "\n",
    "# biasVar = 0\n",
    "\n",
    "n_iterations = 30\n",
    "qStart = 0.0\n",
    "\n",
    "def integrand(z, prev_q):\n",
    "    return np.tanh(np.sqrt(prev_q) * z)**2 * 1.0/np.sqrt(2.0 * np.pi) * np.exp(-(z**2)/2.0)\n",
    "\n",
    "def test(z, a):\n",
    "    return a*z**2\n",
    "\n",
    "# nextq = weightVar * n_hidden * quad(integrad, -np.inf, np.inf, args=(qStart)) \n",
    "# + weightVar * n_dim * (dataVar + dataMean**2) + biasVar\n",
    "def simulate(weightVar, dataVar, dataMean, biasVar):\n",
    "    dynamics = []\n",
    "    for i in range(n_iterations):\n",
    "        if i == 0:\n",
    "            dynamics.append(qStart)\n",
    "        else:\n",
    "            dynamics.append(weightVar * quad(integrand, -np.inf, np.inf, args=(dynamics[i-1]))[0] \\\n",
    "            + weightVar * (n_dim/n_hidden) * (dataVar + dataMean**2) + biasVar)\n",
    "            # Stop early if q has converged:\n",
    "            r = np.absolute(dynamics[i] - dynamics[i-1])/dynamics[i-1] * 100\n",
    "            if r <= 1:\n",
    "                break\n",
    "    return dynamics, i"
   ]
  },
  {
   "cell_type": "code",
   "execution_count": 3,
   "metadata": {},
   "outputs": [
    {
     "name": "stderr",
     "output_type": "stream",
     "text": [
      "/usr/local/lib/python2.7/dist-packages/ipykernel_launcher.py:34: RuntimeWarning: divide by zero encountered in double_scalars\n"
     ]
    },
    {
     "data": {
      "image/png": "[encoded data removed]",
      "text/plain": [
       "<matplotlib.figure.Figure at 0x7fee420a2390>"
      ]
     },
     "metadata": {},
     "output_type": "display_data"
    },
    {
     "data": {
      "image/png": "[encoded data removed]",
      "text/plain": [
       "<matplotlib.figure.Figure at 0x7fee1e420cd0>"
      ]
     },
     "metadata": {},
     "output_type": "display_data"
    }
   ],
   "source": [
    "dataVar = 0.089609815596183001\n",
    "dataMean = 0\n",
    "# dataVar = 0.0\n",
    "# dataMean = 0.0\n",
    "\n",
    "delta = 0.05\n",
    "w = np.arange(1.0, 3.5, delta)\n",
    "b = np.arange(0.1, 4.0, delta)\n",
    "W, B = np.meshgrid(w, b)\n",
    "qstar = np.zeros((len(W[:,0]), len(W[0])))\n",
    "convIter = np.zeros((len(W[:,0]), len(W[0])))\n",
    "for i in range(len(W[:,0])):\n",
    "    for j in range(len(W[0])):\n",
    "        output, numIter = simulate(W[i][j]**2, dataVar, dataMean, B[i][j]**2)\n",
    "        qstar[i][j] = output[-1]\n",
    "        convIter[i][j] = numIter\n",
    "plt.figure(1)\n",
    "cp = plt.contourf(W, B, qstar)\n",
    "plt.colorbar(cp)\n",
    "plt.title(r'$q*(\\sigma_w , \\sigma_b)$ with $(\\sigma_x^2 + \\mu_x^2)$ = %.3f' % (dataVar + dataMean**2))\n",
    "plt.xlabel(r'$\\sigma_w$')\n",
    "plt.ylabel(r'$\\sigma_b$')\n",
    "plt.show()\n",
    "plt.figure(2)\n",
    "cs = plt.contourf(W, B, convIter)\n",
    "plt.colorbar(cs)\n",
    "plt.title(r'Iterations to $q*(\\sigma_w , \\sigma_b)$ with $(\\sigma_x^2 + \\mu_x^2)$ = %.3f' % (dataVar + dataMean**2))\n",
    "plt.xlabel(r'$\\sigma_w$')\n",
    "plt.ylabel(r'$\\sigma_b$')\n",
    "plt.show()"
   ]
  }
 ],
 "metadata": {
  "kernelspec": {
   "display_name": "Python 2",
   "language": "python",
   "name": "python2"
  },
  "language_info": {
   "codemirror_mode": {
    "name": "ipython",
    "version": 2
   },
   "file_extension": ".py",
   "mimetype": "text/x-python",
   "name": "python",
   "nbconvert_exporter": "python",
   "pygments_lexer": "ipython2",
   "version": "2.7.12"
  }
 },
 "nbformat": 4,
 "nbformat_minor": 2
}
