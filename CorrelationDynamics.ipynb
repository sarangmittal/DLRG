{
 "cells": [
  {
   "cell_type": "code",
   "execution_count": 1,
   "metadata": {
    "collapsed": true
   },
   "outputs": [],
   "source": [
    "import numpy as np\n",
    "from scipy.integrate import quad, nquad\n",
    "import matplotlib.pyplot as plt\n",
    "\n",
    "# Tunable Constants\n",
    "n_dim = 3\n",
    "n_hidden = 128\n",
    "corrStart = 0.5\n",
    "\n",
    "def varIntegrand(z, prev_q):\n",
    "    return np.tanh(np.sqrt(prev_q) * z)**2 * 1.0/np.sqrt(2.0 * np.pi) * np.exp(-(z**2)/2.0)\n",
    "\n",
    "def corrIntegrand(z1, z2, prev_c, qstar):\n",
    "#     if prev_c > 1: prev_c = 1\n",
    "    u1 = np.sqrt(qstar) * z1\n",
    "    u2 = np.sqrt(qstar) * (prev_c * z1 + np.sqrt(np.absolute(1-prev_c**2)) * z2)\n",
    "    D1 = np.exp(-(z1**2)/2.0) * 1.0/np.sqrt(2.0 * np.pi)\n",
    "    D2 = np.exp(-(z2**2)/2.0) * 1.0/np.sqrt(2.0 * np.pi)\n",
    "    return np.tanh(u1) * np.tanh(u2) * D1 * D2\n",
    "\n",
    "def findQStar(weightVar, dataVar, dataMean, biasVar, n_iterations):\n",
    "    dynamics = []\n",
    "    qStart = 0.0\n",
    "    for i in range(n_iterations):\n",
    "        if i == 0:\n",
    "            dynamics.append(qStart)\n",
    "        else:\n",
    "            dynamics.append(weightVar * quad(varIntegrand, -np.inf, np.inf, args=(dynamics[i-1]))[0] \\\n",
    "            + weightVar * (n_dim/n_hidden) * (dataVar + dataMean**2) + biasVar)\n",
    "            # Stop early if q has converged:\n",
    "            r = np.absolute(dynamics[i] - dynamics[i-1])/dynamics[i-1] * 100\n",
    "            if r <= 1:\n",
    "                break\n",
    "    return dynamics[-1]\n",
    "\n",
    "def simulateCorr(weightVar, dataVar, dataMean, biasVar, n_iterations, n_timesteps):\n",
    "    dynamics = []\n",
    "    qStar = findQStar(weightVar, dataVar, dataMean, biasVar, n_iterations)\n",
    "    print('weightVar = %f' % weightVar)\n",
    "    print('qStar = %f' % qStar)\n",
    "    for i in range(n_timesteps):\n",
    "        if i == 0:\n",
    "            dynamics.append(corrStart)\n",
    "        else:\n",
    "            corrNext = (1/qStar) * ( weightVar \\\n",
    "            * nquad(corrIntegrand, [[-np.inf, np.inf],[-np.inf, np.inf]], args=(dynamics[i-1], qStar))[0] \\\n",
    "            + weightVar* (n_dim/n_hidden) * (dataVar + dataMean**2) + biasVar)\n",
    "            dynamics.append(corrNext)\n",
    "    return dynamics"
   ]
  },
  {
   "cell_type": "code",
   "execution_count": 10,
   "metadata": {},
   "outputs": [
    {
     "name": "stderr",
     "output_type": "stream",
     "text": [
      "/usr/local/lib/python2.7/dist-packages/ipykernel_launcher.py:30: RuntimeWarning: divide by zero encountered in double_scalars\n"
     ]
    },
    {
     "name": "stdout",
     "output_type": "stream",
     "text": [
      "weightVar = 6.250000\n",
      "qStar = 4.021943\n",
      "0.0745223345496\n"
     ]
    },
    {
     "data": {
      "image/png": "[encoded data removed]",
      "text/plain": [
       "<matplotlib.figure.Figure at 0x7f77ada03bd0>"
      ]
     },
     "metadata": {},
     "output_type": "display_data"
    }
   ],
   "source": [
    "weightStd = [2.5]\n",
    "weightVar = [i**2 for i in weightStd]\n",
    "biasVar = 0.05\n",
    "# # dataVar = [0, 0.5, 1.5, 2.5]\n",
    "dataVar = 0.089609815596183001\n",
    "# dataMean = 0.27285383514 # Calculated from data set\n",
    "# dataVar = 0\n",
    "dataMean = 0\n",
    "plt.figure(1)\n",
    "for el in weightVar:\n",
    "    output = simulateCorr(el, dataVar, dataMean, biasVar, 15, 30)\n",
    "    plt.plot(output, label=r'$\\sigma_w^2$ = %.2g' % el)\n",
    "    plt.xlabel(\"Iteration (timesteps)\")\n",
    "    plt.ylabel(r'$c^t_{ab}$')\n",
    "    plt.title(r'Theoretical Dynamics of c with $(\\sigma_x^2 + \\mu_x^2)$ = %.3f' % (dataVar + dataMean**2))\n",
    "    print(output[-1])\n",
    "plt.legend()\n",
    "plt.show()"
   ]
  },
  {
   "cell_type": "code",
   "execution_count": 11,
   "metadata": {
    "collapsed": true
   },
   "outputs": [],
   "source": [
    "import pickle\n",
    "import random\n",
    "data_string = 'lorAtt_30'\n",
    "with open('lorAttData/%s.pickle' % (data_string), 'rb') as f:\n",
    "    data = pickle.load(f)\n",
    "random.seed(12345)"
   ]
  },
  {
   "cell_type": "code",
   "execution_count": 12,
   "metadata": {
    "collapsed": true
   },
   "outputs": [],
   "source": [
    "import torch\n",
    "import torch.nn as nn\n",
    "from torch.autograd import Variable\n",
    "import math\n",
    "import matplotlib.pyplot as plot\n",
    "%matplotlib inline\n",
    "\n",
    "traj = data[random.randint(0,len(data))]\n",
    "traj = torch.FloatTensor(traj)\n",
    "\n",
    "hidden_features = 128\n",
    "n_dim = traj.size()[2]\n",
    "\n",
    "weight_var = 2.5**2/hidden_features\n",
    "weight_std = np.sqrt(weight_var)\n",
    "weight_mean = 0.0\n",
    "bias_mean = 0.0\n",
    "bias_std = math.sqrt(0.05)\n",
    "\n",
    "class RNN(nn.Module):\n",
    "    def __init__(self, input_size, hidden_size, output_size):\n",
    "        super(RNN, self).__init__()\n",
    "        self.hidden_size = hidden_size\n",
    "        self.i2h = nn.Linear(input_size + hidden_size, hidden_size)\n",
    "        self.i2o = nn.Linear(input_size + hidden_size, output_size)\n",
    "        self.activation = nn.Tanh()\n",
    "        \n",
    "        for m in self.modules():\n",
    "                if isinstance(m, torch.nn.Linear):\n",
    "                    m.weight.data.normal_(weight_mean, weight_std)\n",
    "                    m.bias.data.normal_(bias_mean, bias_std)\n",
    "        \n",
    "    def forward(self, input, hidden):\n",
    "        combined = torch.cat([input, hidden], 1)\n",
    "        hidden = self.i2h(combined)\n",
    "        pre_activation = hidden\n",
    "        hidden = self.activation(hidden)\n",
    "        output = self.i2o(combined)\n",
    "        return output, hidden, pre_activation\n",
    "    \n",
    "    def initHidden(self):\n",
    "        return Variable(torch.zeros(1,self.hidden_size)) "
   ]
  },
  {
   "cell_type": "code",
   "execution_count": 9,
   "metadata": {},
   "outputs": [
    {
     "data": {
      "image/png": "[encoded data removed]",
      "text/plain": [
       "<matplotlib.figure.Figure at 0x7f776339ce50>"
      ]
     },
     "metadata": {},
     "output_type": "display_data"
    }
   ],
   "source": [
    "def corrCoef(v1, v2):\n",
    "    return np.mean(np.multiply(v1.data.numpy()[0], v2.data.numpy()[0])) \\\n",
    "/ np.sqrt(np.var(v1.data.numpy()[0]) * np.var(v2.data.numpy()[0]))\n",
    "\n",
    "correlation_all = []\n",
    "for j in (range(1000)):\n",
    "    # Get a random pair of inputs, and then propagate them through the encoder\n",
    "    index1 = random.randint(0, len(data))\n",
    "    index2 = random.randint(0, len(data))\n",
    "    while index1 == index2:\n",
    "        index2 = random.randint(0,len(data)) #Ensure different pairs\n",
    "    input1 = data[index1]\n",
    "    input2 = data[index2]\n",
    "\n",
    "    traj1 = Variable(torch.FloatTensor(input1))\n",
    "    traj2 = Variable(torch.FloatTensor(input2))\n",
    "    encoderRNN = RNN(n_dim, hidden_features, n_dim)\n",
    "    decoderRNN = RNN(n_dim, hidden_features, n_dim)\n",
    "\n",
    "    input_sequence_length = 9\n",
    "    correlation = []\n",
    "    hidden1 = encoderRNN.initHidden()\n",
    "    hidden2 = encoderRNN.initHidden()\n",
    "\n",
    "    output_sequence_length = traj1.size()[0] - input_sequence_length\n",
    "    encoderOutput1 = Variable(torch.zeros(input_sequence_length, 1, n_dim)) \n",
    "    decoderOutput1 = Variable(torch.zeros(output_sequence_length,1, n_dim))\n",
    "    encoderOutput2 = Variable(torch.zeros(input_sequence_length, 1, n_dim)) \n",
    "    decoderOutput2 = Variable(torch.zeros(output_sequence_length,1, n_dim))\n",
    "\n",
    "    for i in range(input_sequence_length):\n",
    "        encoderOutput1[i], hidden1, pre_a1 = encoderRNN(traj1[i], hidden1)\n",
    "        encoderOutput2[i], hidden2, pre_a2 = encoderRNN(traj2[i], hidden2)\n",
    "        correlation.append(corrCoef(pre_a1, pre_a2))\n",
    "    for i in range(output_sequence_length):\n",
    "        if (i == 0):\n",
    "            dummyState = Variable(torch.zeros(1,n_dim)) \n",
    "            decoderOutput1[i], hidden1, pre_a1 = decoderRNN(dummyState, hidden1)\n",
    "            decoderOutput2[i], hidden2, pre_a2 = decoderRNN(dummyState, hidden2)\n",
    "            correlation.append(corrCoef(pre_a1, pre_a2))\n",
    "        else:\n",
    "            decoderOutput1[i], hidden1, pre_a1 = decoderRNN(dummyState, hidden1)\n",
    "            decoderOutput2[i], hidden2, pre_a2 = decoderRNN(dummyState, hidden2)\n",
    "            correlation.append(corrCoef(pre_a1, pre_a2))\n",
    "    if j == 0:\n",
    "        correlation_all = correlation\n",
    "    else:\n",
    "        correlation_all = np.vstack((correlation_all, correlation))\n",
    "\n",
    "corr_mean = []\n",
    "corr_std = []\n",
    "for i in range(traj1.size()[0]):\n",
    "    corr_mean.append(np.mean(correlation_all[:,1]))\n",
    "    corr_std.append(np.sqrt(np.var(correlation_all[:,1])))\n",
    "\n",
    "plt.errorbar(range(traj.size()[0]) ,corr_mean, yerr=corr_std,  label=r'$\\sigma_w^2$ = %g' % (weight_std**2))\n",
    "\n",
    "plt.xlabel(\"Iteration (layers)\")\n",
    "plt.show()"
   ]
  },
  {
   "cell_type": "code",
   "execution_count": 17,
   "metadata": {},
   "outputs": [
    {
     "data": {
      "text/plain": [
       "0.089609815596183001"
      ]
     },
     "execution_count": 17,
     "metadata": {},
     "output_type": "execute_result"
    }
   ],
   "source": [
    "np.var(data)"
   ]
  },
  {
   "cell_type": "code",
   "execution_count": 18,
   "metadata": {},
   "outputs": [
    {
     "name": "stderr",
     "output_type": "stream",
     "text": [
      "/usr/local/lib/python2.7/dist-packages/ipykernel_launcher.py:2: RuntimeWarning: invalid value encountered in float_scalars\n",
      "  \n"
     ]
    },
    {
     "data": {
      "text/plain": [
       "nan"
      ]
     },
     "execution_count": 18,
     "metadata": {},
     "output_type": "execute_result"
    }
   ],
   "source": [
    "h1 = encoderRNN.initHidden()\n",
    "h2 = encoderRNN.initHidden()\n",
    "corrCoef(h1,h2)"
   ]
  }
 ],
 "metadata": {
  "kernelspec": {
   "display_name": "Python 2",
   "language": "python",
   "name": "python2"
  },
  "language_info": {
   "codemirror_mode": {
    "name": "ipython",
    "version": 2
   },
   "file_extension": ".py",
   "mimetype": "text/x-python",
   "name": "python",
   "nbconvert_exporter": "python",
   "pygments_lexer": "ipython2",
   "version": "2.7.12"
  }
 },
 "nbformat": 4,
 "nbformat_minor": 2
}
