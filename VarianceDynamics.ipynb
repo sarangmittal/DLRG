{
 "cells": [
  {
   "cell_type": "code",
   "execution_count": 27,
   "metadata": {
    "collapsed": true
   },
   "outputs": [],
   "source": [
    "import numpy as np\n",
    "from scipy.integrate import quad\n",
    "import matplotlib.pyplot as plt\n",
    "\n",
    "n_hidden = 128.0\n",
    "n_dim = 3.0\n",
    "\n",
    "n_iterations = 30\n",
    "qStart = 0.0\n",
    "\n",
    "def LeakyReLU(x,neg_slope):\n",
    "    if x >= 0:\n",
    "        return x\n",
    "    else:\n",
    "        return -neg_slope * x\n",
    "\n",
    "def integrand(z, prev_q):\n",
    "    return np.tanh(np.sqrt(prev_q) * z)**2 * 1.0/np.sqrt(2.0 * np.pi) * np.exp(-(z**2)/2.0)\n",
    "\n",
    "def test(z, a):\n",
    "    return a*z**2\n",
    "\n",
    "# nextq = weightVar * n_hidden * quad(integrad, -np.inf, np.inf, args=(qStart)) \n",
    "# + weightVar * n_dim * (dataVar + dataMean**2) + biasVar\n",
    "def simulate(weightVar, dataVar, dataMean, biasVar):\n",
    "    dynamics = np.zeros(n_iterations)\n",
    "    for i in range(n_iterations):\n",
    "        if i == 0:\n",
    "            dynamics[i] = qStart\n",
    "        else:\n",
    "            dynamics[i] = weightVar * quad(integrand, -np.inf, np.inf, args=(dynamics[i-1]))[0] \\\n",
    "            + weightVar * (n_dim/n_hidden) * (dataVar + dataMean**2) + biasVar\n",
    "    return dynamics"
   ]
  },
  {
   "cell_type": "code",
   "execution_count": 28,
   "metadata": {},
   "outputs": [
    {
     "data": {
      "image/png": "[encoded data removed]",
      "text/plain": [
       "<matplotlib.figure.Figure at 0x7fc9e1d16850>"
      ]
     },
     "metadata": {},
     "output_type": "display_data"
    },
    {
     "name": "stdout",
     "output_type": "stream",
     "text": [
      "[ 0.          0.06312644  0.41515008  1.58995915  3.05598009  3.76612337\n",
      "  3.97523859  4.02754697  4.04008709  4.0430626   4.04376689  4.0439335\n",
      "  4.04397291  4.04398223  4.04398443  4.04398495  4.04398508  4.04398511\n",
      "  4.04398511  4.04398511  4.04398511  4.04398511  4.04398511  4.04398511\n",
      "  4.04398511  4.04398511  4.04398511  4.04398511  4.04398511  4.04398511]\n"
     ]
    }
   ],
   "source": [
    "weightStd = [2.5]\n",
    "weightVar = [i**2 for i in weightStd]\n",
    "biasVar = 0.05\n",
    "# dataVar = 0\n",
    "dataVar = 0.089609815596183001\n",
    "dataMean = 0 # zero-mean\n",
    "# dataMean = 0.273126\n",
    "# dataVar = 0.193429 # non-zero mean\n",
    "plt.figure(1)\n",
    "for el in weightVar:\n",
    "    output = simulate(el, dataVar, dataMean, biasVar)\n",
    "    plt.plot(output, label=r'$\\sigma_w^2$ = %.2g' % el)\n",
    "    plt.xlabel(\"Iteration (timesteps)\")\n",
    "    plt.ylabel(r'$q^t$')\n",
    "    plt.title(r'Theoretical Dynamics of q with $(\\sigma_x^2 + \\mu_x^2)$ = %.3f' % (dataVar + dataMean**2))\n",
    "plt.legend()\n",
    "plt.show()\n",
    "print(output)"
   ]
  },
  {
   "cell_type": "code",
   "execution_count": 29,
   "metadata": {
    "collapsed": true
   },
   "outputs": [],
   "source": [
    "import pickle\n",
    "import random\n",
    "data_string = 'lorAtt_30'\n",
    "with open('lorAttData/%s.pickle' % (data_string), 'rb') as f: #Eventually take the file name as an argument\n",
    "    data = pickle.load(f)\n",
    "random.seed(12345)\n"
   ]
  },
  {
   "cell_type": "code",
   "execution_count": 30,
   "metadata": {
    "collapsed": true
   },
   "outputs": [],
   "source": [
    "import torch\n",
    "import torch.nn as nn\n",
    "from torch.autograd import Variable\n",
    "import math\n",
    "import matplotlib.pyplot as plot\n",
    "%matplotlib inline\n",
    "\n",
    "traj = data[random.randint(0,len(data))]\n",
    "traj = torch.FloatTensor(traj)\n",
    "\n",
    "hidden_features = 128\n",
    "n_dim = traj.size()[2]\n",
    "\n",
    "\n",
    "weight_var = 2.5**2/hidden_features\n",
    "weight_std = np.sqrt(weight_var)\n",
    "weight_mean = 0.0\n",
    "bias_mean = 0.0\n",
    "bias_std = math.sqrt(0.05)\n",
    "\n",
    "class RNN(nn.Module):\n",
    "    def __init__(self, input_size, hidden_size, output_size):\n",
    "        super(RNN, self).__init__()\n",
    "        self.hidden_size = hidden_size\n",
    "        self.i2h = nn.Linear(input_size + hidden_size, hidden_size)\n",
    "        self.i2o = nn.Linear(input_size + hidden_size, output_size)\n",
    "        self.activation = nn.Tanh()\n",
    "        \n",
    "        for m in self.modules():\n",
    "                if isinstance(m, torch.nn.Linear):\n",
    "                    m.weight.data.normal_(weight_mean, weight_std)\n",
    "                    m.bias.data.normal_(bias_mean, bias_std)\n",
    "        \n",
    "    def forward(self, input, hidden):\n",
    "        combined = torch.cat([input, hidden], 1)\n",
    "        hidden = self.i2h(combined)\n",
    "        pre_activation = hidden\n",
    "        hidden = self.activation(hidden)\n",
    "        output = self.i2o(combined)\n",
    "        return output, hidden, pre_activation\n",
    "    \n",
    "    def initHidden(self):\n",
    "        return Variable(torch.zeros(1,self.hidden_size)) "
   ]
  },
  {
   "cell_type": "code",
   "execution_count": 31,
   "metadata": {},
   "outputs": [
    {
     "name": "stdout",
     "output_type": "stream",
     "text": [
      "10000\n"
     ]
    },
    {
     "data": {
      "image/png": "[encoded data removed]",
      "text/plain": [
       "<matplotlib.figure.Figure at 0x7fca125da790>"
      ]
     },
     "metadata": {},
     "output_type": "display_data"
    },
    {
     "name": "stdout",
     "output_type": "stream",
     "text": [
      "Data Mean = -0.000000\n",
      "Data Variance = 0.089610\n",
      "[0.0, 0.084433109, 0.53389347, 1.8345703, 3.2041378, 3.8103702, 3.9762359, 4.0206695, 4.0391054, 4.039072, 4.0403423, 4.0350356, 4.0441985, 4.0374045, 4.0397639, 4.0478077, 4.0512366, 4.0490141, 4.0536752, 4.055192, 4.0596128, 4.0675788, 4.0638113, 4.0570798, 4.0656362, 4.0670109, 4.0669737, 4.0633607, 4.0668697, 4.0667896]\n"
     ]
    }
   ],
   "source": [
    "variance_all = []\n",
    "for j in range(len(data)):\n",
    "    traj = data[j]\n",
    "    encoderRNN = RNN(n_dim, hidden_features, n_dim)\n",
    "    decoderRNN = RNN(n_dim, hidden_features, n_dim)\n",
    "    traj = torch.FloatTensor(traj)\n",
    "\n",
    "    input_sequence_length = 30\n",
    "    variances = []\n",
    "    hidden = encoderRNN.initHidden()\n",
    "    variances.append(np.var(hidden.data.numpy()[0]))\n",
    "    traj = Variable(traj)\n",
    "    output_sequence_length = traj.size()[0] - input_sequence_length\n",
    "\n",
    "    encoderOutput = Variable(torch.zeros(input_sequence_length, 1, n_dim)) \n",
    "    decoderOutput = Variable(torch.zeros(output_sequence_length,1, n_dim))\n",
    "\n",
    "    # Run the training sequence into the encoder\n",
    "    for i in range(input_sequence_length):\n",
    "        encoderOutput[i], hidden, pre_activation = encoderRNN(traj[i], hidden)\n",
    "        variances.append(np.var(pre_activation.data.numpy()[0]))\n",
    "\n",
    "    # Now the last hidden state of the encoder is the first hidden state of the decoder.\n",
    "    # For now, let's have the first input be the origin\n",
    "    for i in range(output_sequence_length):\n",
    "        if (i == 0):\n",
    "            dummyState = Variable(torch.zeros(1,n_dim)) \n",
    "            decoderOutput[i], hidden, pre_activation = decoderRNN(dummyState, hidden)\n",
    "            variances.append(np.var(pre_activation.data.numpy()[0]))\n",
    "        else:\n",
    "            decoderOutput[i], hidden, pre_activation = decoderRNN(decoderOutput[i-1], hidden)\n",
    "            variances.append(np.var(pre_activation.data.numpy()[0]))\n",
    "    if j == 0:\n",
    "        variance_all = variances\n",
    "    else:\n",
    "        variance_all = np.vstack((variance_all, variances))\n",
    "variance_mean = []\n",
    "variance_std = []\n",
    "for i in range(traj.size()[0]):\n",
    "    variance_mean.append(np.mean(variance_all[:,i]))\n",
    "    variance_std.append(np.sqrt(np.var(variance_all[:,i])))\n",
    "print(len(variance_all))\n",
    "variances = variance_mean\n",
    "plt.errorbar(range(traj.size()[0]) ,variances, yerr=variance_std,  label=r'$\\sigma_w^2$ = %g' % (weight_std**2 * hidden_features))\n",
    "plt.xlabel(\"Iteration (layers)\")\n",
    "plt.ylabel(r'$q^t$')\n",
    "plt.title('Mean Variance of Pre-Activation State in untrained RNN')\n",
    "plt.legend()\n",
    "plt.show()\n",
    "print('Data Mean = %f' % np.mean(data))\n",
    "print('Data Variance = %f' % np.var(data))\n",
    "print(variances)"
   ]
  },
  {
   "cell_type": "code",
   "execution_count": 32,
   "metadata": {},
   "outputs": [
    {
     "data": {
      "image/png": "[encoded data removed]",
      "text/plain": [
       "<matplotlib.figure.Figure at 0x7fc9e4141610>"
      ]
     },
     "metadata": {},
     "output_type": "display_data"
    }
   ],
   "source": [
    "variance_all = []\n",
    "for j in range(len(data)):\n",
    "    traj = data[j]\n",
    "    trainedEncoder = RNN(n_dim, hidden_features, n_dim)\n",
    "    trainedDecoder = RNN(n_dim, hidden_features, n_dim)\n",
    "    weight_std = 0.05\n",
    "    trainedEncoder.load_state_dict(torch.load('savedResults/run_13/TrajModel/lorAtt_30_encoder_wsd_%.2f' % weight_std))\n",
    "    trainedDecoder.load_state_dict(torch.load('savedResults/run_13/TrajModel/lorAtt_30_decoder_wsd_%.2f' % weight_std))\n",
    "    traj = torch.FloatTensor(traj)\n",
    "\n",
    "    input_sequence_length = 6\n",
    "    variances = []\n",
    "    hidden = trainedEncoder.initHidden()\n",
    "    variances.append(np.var(hidden.data.numpy()[0]))\n",
    "    traj = Variable(traj)\n",
    "    output_sequence_length = traj.size()[0] - input_sequence_length\n",
    "\n",
    "    encoderOutput = Variable(torch.zeros(input_sequence_length, 1, n_dim)) \n",
    "    decoderOutput = Variable(torch.zeros(output_sequence_length,1, n_dim))\n",
    "\n",
    "    # Run the training sequence into the encoder\n",
    "    for i in range(input_sequence_length):\n",
    "        encoderOutput[i], hidden, pre_activation = trainedEncoder(traj[i], hidden)\n",
    "        variances.append(np.var(pre_activation.data.numpy()[0]))\n",
    "\n",
    "    # Now the last hidden state of the encoder is the first hidden state of the decoder.\n",
    "    # For now, let's have the first input be the origin\n",
    "    for i in range(output_sequence_length):\n",
    "        if (i == 0):\n",
    "            dummyState = Variable(torch.zeros(1,n_dim)) \n",
    "            decoderOutput[i], hidden, pre_activation = trainedDecoder(dummyState, hidden)\n",
    "            variances.append(np.var(pre_activation.data.numpy()[0]))\n",
    "        else:\n",
    "            decoderOutput[i], hidden, pre_activation = trainedDecoder(decoderOutput[i-1], hidden)\n",
    "            variances.append(np.var(pre_activation.data.numpy()[0]))\n",
    "    if j == 0:\n",
    "        variance_all = variances\n",
    "    else:\n",
    "        variance_all = np.vstack((variance_all, variances))\n",
    "variance_mean = []\n",
    "variance_std = []\n",
    "for i in range(traj.size()[0]):\n",
    "    variance_mean.append(np.mean(variance_all[:,i]))\n",
    "    variance_std.append(np.sqrt(np.var(variance_all[:,i])))\n",
    "    \n",
    "variances = variance_mean\n",
    "plt.errorbar(range(traj.size()[0]) ,variances, yerr=variance_std,  label=r'$\\sigma_w^2$ = %g' % (np.sqrt(weight_std*hidden_features)))\n",
    "plt.xlabel(\"Iteration (layers)\")\n",
    "plt.ylabel(r'$q^t$')\n",
    "plt.title('Mean Variance of Pre-Activation State in Trained RNN')\n",
    "plt.legend()\n",
    "plt.show()"
   ]
  },
  {
   "cell_type": "code",
   "execution_count": 33,
   "metadata": {},
   "outputs": [
    {
     "name": "stdout",
     "output_type": "stream",
     "text": [
      "[0.0, 0.066874333, 0.08805079, 0.10269941, 0.10388354, 0.10336627, 0.10155387, 0.067983307, 0.061516371, 0.07328508, 0.10224224, 0.14654347, 0.20779201, 0.28392681, 0.36295706, 0.43389747, 0.48942715, 0.52817971, 0.55227751, 0.56505573, 0.56980157, 0.56946224, 0.56644171, 0.56263942, 0.55964833, 0.55913705, 0.56290454, 0.57175148, 0.58393699, 0.59572643]\n"
     ]
    }
   ],
   "source": [
    "print(variances)"
   ]
  },
  {
   "cell_type": "code",
   "execution_count": 34,
   "metadata": {},
   "outputs": [
    {
     "name": "stdout",
     "output_type": "stream",
     "text": [
      "-2.4576883738e-17\n",
      "0.0896098155962\n",
      "0.0896098155962\n"
     ]
    },
    {
     "data": {
      "image/png": "[encoded data removed]",
      "text/plain": [
       "<matplotlib.figure.Figure at 0x7fc9e194c450>"
      ]
     },
     "metadata": {},
     "output_type": "display_data"
    }
   ],
   "source": [
    "print(np.mean(data))\n",
    "print(np.var(data))\n",
    "temp = data.reshape(data.size, 1)\n",
    "n, bins, patches = plt.hist(temp, 50)\n",
    "print(np.mean(temp**2))\n",
    "xvar = np.var(data[:,:,0,0])\n",
    "yvar = np.var(data[:,:,0,1])\n",
    "zvar = np.var(data[:,:,0,2])"
   ]
  }
 ],
 "metadata": {
  "kernelspec": {
   "display_name": "Python 2",
   "language": "python",
   "name": "python2"
  },
  "language_info": {
   "codemirror_mode": {
    "name": "ipython",
    "version": 2
   },
   "file_extension": ".py",
   "mimetype": "text/x-python",
   "name": "python",
   "nbconvert_exporter": "python",
   "pygments_lexer": "ipython2",
   "version": "2.7.12"
  }
 },
 "nbformat": 4,
 "nbformat_minor": 2
}
