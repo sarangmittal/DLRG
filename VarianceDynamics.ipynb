{
 "cells": [
  {
   "cell_type": "code",
   "execution_count": 1,
   "metadata": {
    "collapsed": true
   },
   "outputs": [],
   "source": [
    "import numpy as np\n",
    "from scipy.integrate import quad\n",
    "import matplotlib.pyplot as plt\n",
    "\n",
    "# weightVar = 1.3**2\n",
    "\n",
    "# dataVar = 2.5**2\n",
    "# dataMean = 1\n",
    "\n",
    "n_hidden = 128.0\n",
    "n_dim = 3.0\n",
    "\n",
    "# biasVar = 0\n",
    "\n",
    "n_iterations = 30\n",
    "qStart = 0.0\n",
    "\n",
    "def integrand(z, prev_q):\n",
    "    return np.tanh(np.sqrt(prev_q) * z)**2 * 1.0/np.sqrt(2.0 * np.pi) * np.exp(-(z**2)/2.0)\n",
    "\n",
    "def test(z, a):\n",
    "    return a*z**2\n",
    "\n",
    "# nextq = weightVar * n_hidden * quad(integrad, -np.inf, np.inf, args=(qStart)) \n",
    "# + weightVar * n_dim * (dataVar + dataMean**2) + biasVar\n",
    "def simulate(weightVar, dataVar, dataMean, biasVar):\n",
    "    dynamics = np.zeros(n_iterations)\n",
    "    for i in range(n_iterations):\n",
    "        if i == 0:\n",
    "            dynamics[i] = qStart\n",
    "        else:\n",
    "            dynamics[i] = weightVar * quad(integrand, -np.inf, np.inf, args=(dynamics[i-1]))[0] \\\n",
    "            + weightVar * (n_dim/n_hidden) * (dataVar + dataMean**2) + biasVar\n",
    "    return dynamics"
   ]
  },
  {
   "cell_type": "code",
   "execution_count": 8,
   "metadata": {},
   "outputs": [
    {
     "data": {
      "image/png": "[encoded data removed]",
      "text/plain": [
       "<matplotlib.figure.Figure at 0x7f29d5a54c10>"
      ]
     },
     "metadata": {},
     "output_type": "display_data"
    },
    {
     "name": "stdout",
     "output_type": "stream",
     "text": [
      "[ 0.          0.00880146  0.01745174  0.02567242  0.03324355  0.04002088\n",
      "  0.04593707  0.05099065  0.05522878  0.05872908  0.0615839   0.06388862\n",
      "  0.06573405  0.06720206  0.06836377  0.06927933  0.06999856  0.07056213\n",
      "  0.07100285  0.07134696  0.07161533  0.07182441  0.0719872   0.07211386\n",
      "  0.07221237  0.07228897  0.0723485   0.07239476  0.07243071  0.07245864]\n"
     ]
    }
   ],
   "source": [
    "weightStd = [0.03]\n",
    "weightVar = [i**2 for i in weightStd]\n",
    "biasVar = 0.05\n",
    "# dataVar = [0, 0.5, 1.5, 2.5]\n",
    "dataVar = 0.194413273048\n",
    "dataMean = 0.27285383514 # Calculated from data set\n",
    "plt.figure(1)\n",
    "for el in weightVar:\n",
    "    output = simulate(el, dataVar, dataMean, biasVar)\n",
    "    plt.plot(output, label=r'$\\sigma_w^2$ = %.2g' % el)\n",
    "    plt.xlabel(\"Iteration (timesteps)\")\n",
    "    plt.ylabel(r'$q^t$')\n",
    "    plt.title(r'Theoretical Dynamics of q with $(\\sigma_x^2 + \\mu_x^2)$ = %.3f' % (dataVar + dataMean**2))\n",
    "plt.legend()\n",
    "plt.show()\n",
    "print(output)"
   ]
  },
  {
   "cell_type": "code",
   "execution_count": 2,
   "metadata": {
    "collapsed": true
   },
   "outputs": [],
   "source": [
    "import pickle\n",
    "import random\n",
    "data_string = 'lorAtt_80'\n",
    "with open('lorAttData/%s.pickle' % (data_string), 'rb') as f: #Eventually take the file name as an argument\n",
    "    data = pickle.load(f)\n",
    "random.seed(12345)\n"
   ]
  },
  {
   "cell_type": "code",
   "execution_count": 3,
   "metadata": {
    "collapsed": true
   },
   "outputs": [],
   "source": [
    "import torch\n",
    "import torch.nn as nn\n",
    "from torch.autograd import Variable\n",
    "import math\n",
    "import matplotlib.pyplot as plot\n",
    "%matplotlib inline\n",
    "\n",
    "traj = data[random.randint(0,len(data))]\n",
    "traj = torch.FloatTensor(traj)\n",
    "\n",
    "weight_std = 0.03\n",
    "weight_mean = 0.0\n",
    "bias_mean = 0.0\n",
    "bias_std = math.sqrt(0.05)\n",
    "\n",
    "class RNN(nn.Module):\n",
    "    def __init__(self, input_size, hidden_size, output_size):\n",
    "        super(RNN, self).__init__()\n",
    "        self.hidden_size = hidden_size\n",
    "        self.i2h = nn.Linear(input_size + hidden_size, hidden_size)\n",
    "        self.i2o = nn.Linear(input_size + hidden_size, output_size)\n",
    "        self.activation = nn.Tanh()\n",
    "        \n",
    "        for m in self.modules():\n",
    "                if isinstance(m, torch.nn.Linear):\n",
    "                    m.weight.data.normal_(weight_mean, weight_std)\n",
    "                    m.bias.data.normal_(bias_mean, bias_std)\n",
    "        \n",
    "    def forward(self, input, hidden):\n",
    "        combined = torch.cat([input, hidden], 1)\n",
    "        hidden = self.i2h(combined)\n",
    "        hidden = self.activation(hidden)\n",
    "        output = self.i2o(combined)\n",
    "        return output, hidden\n",
    "    \n",
    "    def initHidden(self):\n",
    "        return Variable(torch.zeros(1,self.hidden_size)) \n",
    "    \n",
    "hidden_features = 128\n",
    "n_dim = traj.size()[2]\n"
   ]
  },
  {
   "cell_type": "code",
   "execution_count": 5,
   "metadata": {},
   "outputs": [
    {
     "name": "stdout",
     "output_type": "stream",
     "text": [
      "10000\n"
     ]
    },
    {
     "data": {
      "image/png": "[encoded data removed]",
      "text/plain": [
       "<matplotlib.figure.Figure at 0x7f9c2493f9d0>"
      ]
     },
     "metadata": {},
     "output_type": "display_data"
    }
   ],
   "source": [
    "variance_all = []\n",
    "for j in range(len(data)):\n",
    "    traj = data[j]\n",
    "    encoderRNN = RNN(n_dim, hidden_features, n_dim)\n",
    "    decoderRNN = RNN(n_dim, hidden_features, n_dim)\n",
    "    traj = torch.FloatTensor(traj)\n",
    "\n",
    "    input_sequence_length = 9\n",
    "    variances = []\n",
    "    hidden = encoderRNN.initHidden()\n",
    "    variances.append(np.var(hidden.data.numpy()[0]))\n",
    "    traj = Variable(traj)\n",
    "    output_sequence_length = traj.size()[0] - input_sequence_length\n",
    "\n",
    "    encoderOutput = Variable(torch.zeros(input_sequence_length, 1, n_dim)) \n",
    "    decoderOutput = Variable(torch.zeros(output_sequence_length,1, n_dim))\n",
    "\n",
    "    # Run the training sequence into the encoder\n",
    "    for i in range(input_sequence_length):\n",
    "        encoderOutput[i], hidden = encoderRNN(traj[i], hidden)\n",
    "        variances.append(np.var(hidden.data.numpy()[0]))\n",
    "\n",
    "    # Now the last hidden state of the encoder is the first hidden state of the decoder.\n",
    "    # For now, let's have the first input be the origin\n",
    "    for i in range(output_sequence_length):\n",
    "        if (i == 0):\n",
    "            dummyState = Variable(torch.zeros(1,n_dim)) \n",
    "            decoderOutput[i], hidden = decoderRNN(dummyState, hidden)\n",
    "            variances.append(np.var(hidden.data.numpy()[0]))\n",
    "        else:\n",
    "            decoderOutput[i], hidden = decoderRNN(decoderOutput[i-1], hidden)\n",
    "            variances.append(np.var(hidden.data.numpy()[0]))\n",
    "    if j == 0:\n",
    "        variance_all = variances\n",
    "    else:\n",
    "        variance_all = np.vstack((variance_all, variances))\n",
    "variance_mean = []\n",
    "variance_std = []\n",
    "for i in range(traj.size()[0]):\n",
    "    variance_mean.append(np.mean(variance_all[:,i]))\n",
    "    variance_std.append(np.sqrt(np.var(variance_all[:,i])))\n",
    "print(len(variance_all))\n",
    "variances = variance_mean\n",
    "plt.errorbar(range(traj.size()[0]) ,variances, yerr=variance_std,  label=r'$\\sigma_w^2$ = %g' % (weight_std**2))\n",
    "plt.xlabel(\"Iteration (layers)\")\n",
    "plt.ylabel(r'$q^t$')\n",
    "plt.title('Mean Variance of Hidden State in untrained RNN')\n",
    "plt.legend()\n",
    "plt.show()"
   ]
  },
  {
   "cell_type": "code",
   "execution_count": 4,
   "metadata": {},
   "outputs": [
    {
     "data": {
      "image/png": "[encoded data removed]",
      "text/plain": [
       "<matplotlib.figure.Figure at 0x7ff60459ccd0>"
      ]
     },
     "metadata": {},
     "output_type": "display_data"
    }
   ],
   "source": [
    "variance_all = []\n",
    "for j in range(len(data)):\n",
    "    traj = data[j]\n",
    "    trainedEncoder = RNN(n_dim, hidden_features, n_dim)\n",
    "    trainedDecoder = RNN(n_dim, hidden_features, n_dim)\n",
    "    weight_std = 0.06\n",
    "    trainedEncoder.load_state_dict(torch.load('savedResults/run_11/TrajModel/lorAtt_80_encoder_wsd_%.2f' % weight_std))\n",
    "    trainedDecoder.load_state_dict(torch.load('savedResults/run_11/TrajModel/lorAtt_80_decoder_wsd_%.2f' % weight_std))\n",
    "    traj = torch.FloatTensor(traj)\n",
    "\n",
    "    input_sequence_length = 9\n",
    "    variances = []\n",
    "    hidden = trainedEncoder.initHidden()\n",
    "    variances.append(np.var(hidden.data.numpy()[0]))\n",
    "    traj = Variable(traj)\n",
    "    output_sequence_length = traj.size()[0] - input_sequence_length\n",
    "\n",
    "    encoderOutput = Variable(torch.zeros(input_sequence_length, 1, n_dim)) \n",
    "    decoderOutput = Variable(torch.zeros(output_sequence_length,1, n_dim))\n",
    "\n",
    "    # Run the training sequence into the encoder\n",
    "    for i in range(input_sequence_length):\n",
    "        encoderOutput[i], hidden = trainedEncoder(traj[i], hidden)\n",
    "        variances.append(np.var(hidden.data.numpy()[0]))\n",
    "\n",
    "    # Now the last hidden state of the encoder is the first hidden state of the decoder.\n",
    "    # For now, let's have the first input be the origin\n",
    "    for i in range(output_sequence_length):\n",
    "        if (i == 0):\n",
    "            dummyState = Variable(torch.zeros(1,n_dim)) \n",
    "            decoderOutput[i], hidden = trainedDecoder(dummyState, hidden)\n",
    "            variances.append(np.var(hidden.data.numpy()[0]))\n",
    "        else:\n",
    "            decoderOutput[i], hidden = trainedDecoder(decoderOutput[i-1], hidden)\n",
    "            variances.append(np.var(hidden.data.numpy()[0]))\n",
    "    if j == 0:\n",
    "        variance_all = variances\n",
    "    else:\n",
    "        variance_all = np.vstack((variance_all, variances))\n",
    "variance_mean = []\n",
    "variance_std = []\n",
    "for i in range(traj.size()[0]):\n",
    "    variance_mean.append(np.mean(variance_all[:,i]))\n",
    "    variance_std.append(np.sqrt(np.var(variance_all[:,i])))\n",
    "    \n",
    "variances = variance_mean\n",
    "plt.errorbar(range(traj.size()[0]) ,variances, yerr=variance_std,  label=r'$\\sigma_w^2$ = %g' % (weight_std**2))\n",
    "plt.xlabel(\"Iteration (layers)\")\n",
    "plt.ylabel(r'$q^t$')\n",
    "plt.title('Mean Variance of Hidden State in Trained RNN')\n",
    "plt.legend()\n",
    "plt.show()"
   ]
  },
  {
   "cell_type": "code",
   "execution_count": 145,
   "metadata": {},
   "outputs": [
    {
     "name": "stdout",
     "output_type": "stream",
     "text": [
      "10000\n"
     ]
    }
   ],
   "source": [
    "print(len(data))"
   ]
  }
 ],
 "metadata": {
  "kernelspec": {
   "display_name": "Python 2",
   "language": "python",
   "name": "python2"
  },
  "language_info": {
   "codemirror_mode": {
    "name": "ipython",
    "version": 2
   },
   "file_extension": ".py",
   "mimetype": "text/x-python",
   "name": "python",
   "nbconvert_exporter": "python",
   "pygments_lexer": "ipython2",
   "version": "2.7.12"
  }
 },
 "nbformat": 4,
 "nbformat_minor": 2
}
