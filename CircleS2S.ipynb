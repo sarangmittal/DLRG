{
 "cells": [
  {
   "cell_type": "code",
   "execution_count": 6,
   "metadata": {},
   "outputs": [
    {
     "name": "stdout",
     "output_type": "stream",
     "text": [
      "(10000, 8000, 1000, 1000)\n"
     ]
    }
   ],
   "source": [
    "import torch\n",
    "import torch.nn as nn\n",
    "from torch.autograd import Variable\n",
    "from torch import optim\n",
    "from torch.nn import init\n",
    "import matplotlib.pyplot as plt\n",
    "import pickle\n",
    "import numpy as np\n",
    "import random\n",
    "import math\n",
    "import time\n",
    "\n",
    "import os\n",
    "os.environ['CUDA_VISIBLE_DEVICES'] = '1'\n",
    "\n",
    "%matplotlib inline\n",
    "use_cuda = torch.cuda.is_available()\n",
    "# Load in data\n",
    "data_string = 'lorAtt_20'\n",
    "with open('lorAttData/%s.pickle' % (data_string), 'rb') as f: #Eventually take the file name as an argument\n",
    "    data = pickle.load(f)\n",
    "    \n",
    "# Partition Data into Training, Validation, and Test sets (80/10/10)\n",
    "random.seed(12345) # Comment out to get a different split every time\n",
    "random.shuffle(data)\n",
    "training = data[:(len(data)/10 * 8)]\n",
    "val = data[(len(data)/10 * 8):(len(data)/10 * 9)]\n",
    "test = data[(len(data)/10 * 9):]\n",
    "print(len(data), len(training), len(val), len(test))"
   ]
  },
  {
   "cell_type": "code",
   "execution_count": 7,
   "metadata": {},
   "outputs": [
    {
     "name": "stdout",
     "output_type": "stream",
     "text": [
      "(torch.Size([20, 1, 3]), <class 'torch.FloatTensor'>)\n"
     ]
    }
   ],
   "source": [
    "# Convert to torch Tensors\n",
    "for i in range(len(training)):\n",
    "    training[i] = torch.FloatTensor(training[i]).pin_memory()\n",
    "for i in range(len(val)):\n",
    "    val[i] = torch.FloatTensor(val[i]).pin_memory()\n",
    "for i in range(len(test)):\n",
    "    test[i] = torch.FloatTensor(test[i]).pin_memory()\n",
    "print(training[0].size(), type(training[0]))"
   ]
  },
  {
   "cell_type": "code",
   "execution_count": 8,
   "metadata": {},
   "outputs": [
    {
     "name": "stdout",
     "output_type": "stream",
     "text": [
      "(RNN (\n",
      "  (i2h): Linear (131 -> 128)\n",
      "  (i2o): Linear (131 -> 3)\n",
      "  (LR): LeakyReLU (0.01)\n",
      "), RNN (\n",
      "  (i2h): Linear (131 -> 128)\n",
      "  (i2o): Linear (131 -> 3)\n",
      "  (LR): LeakyReLU (0.01)\n",
      "))\n"
     ]
    }
   ],
   "source": [
    "# Define model\n",
    "weight_std = 0.05 # Need to choose the set of std's\n",
    "                 # Deep information Propagation paper uses sigma^2 = {1, 1.5, 2, 2.5, 3, 3.5, 4}\n",
    "                 # simga_w^2 > 0.2 causes the model to diverge, so lets pick values under that: {0.03,0.06,0.09,0.12,0.15}\n",
    "                 # Also uses sigma_bias^2 = 0.05\n",
    "weight_mean = 0.0\n",
    "bias_mean = 0.0\n",
    "bias_std = math.sqrt(0.05)\n",
    "\n",
    "class RNN(nn.Module):\n",
    "    def __init__(self, input_size, hidden_size, output_size):\n",
    "        super(RNN, self).__init__()\n",
    "        #self.n_layers = n_layers\n",
    "        self.hidden_size = hidden_size\n",
    "        self.i2h = nn.Linear(input_size + hidden_size, hidden_size)\n",
    "#         self.i2h = nn.DataParallel(self.i2h)\n",
    "        self.i2o = nn.Linear(input_size + hidden_size, output_size)\n",
    "        self.LR = nn.LeakyReLU(0.01)\n",
    "        \n",
    "        for m in self.modules():\n",
    "                if isinstance(m, torch.nn.Linear):\n",
    "                    m.weight.data.normal_(weight_mean, weight_std)\n",
    "                    m.bias.data.normal_(bias_mean, bias_std)\n",
    "        \n",
    "    def forward(self, input, hidden):\n",
    "        combined = torch.cat([input, hidden], 1)\n",
    "        combined = self.LR(combined)\n",
    "        hidden = self.i2h(combined)\n",
    "#         hidden = self.LR(hidden)\n",
    "        output = self.i2o(combined)\n",
    "#         output = self.LR(output)\n",
    "        return output, hidden\n",
    "    \n",
    "    def initHidden(self):\n",
    "        return Variable(torch.zeros(1,self.hidden_size)) # if use_cuda else Variable(torch.zeros(1,self.hidden_size))\n",
    "    \n",
    "hidden_features = 128\n",
    "n_dim = training[0].size()[2]\n",
    "\n",
    "encoderRNN = RNN(n_dim, hidden_features, n_dim)\n",
    "decoderRNN = RNN(n_dim, hidden_features, n_dim)\n",
    "\n",
    "# encoderRNN = encoderRNN.cuda() #if use_cuda\n",
    "# decoderRNN = decoderRNN.cuda() #if use_cuda\n",
    "print(encoderRNN, decoderRNN)"
   ]
  },
  {
   "cell_type": "code",
   "execution_count": 10,
   "metadata": {
    "collapsed": true
   },
   "outputs": [],
   "source": [
    "# Define Loss function and learning rate and size of input sequence\n",
    "criterion = nn.MSELoss(size_average = True) # cuda\n",
    "learning_rate = 0.05\n",
    "input_sequence_length = 9\n",
    "encoder_optimizer = optim.SGD(encoderRNN.parameters(), lr = learning_rate)\n",
    "decoder_optimizer = optim.SGD(decoderRNN.parameters(), lr = learning_rate)\n",
    "batch_size = 4\n",
    "\n",
    "def train(input_batch):\n",
    "    encoder_optimizer.zero_grad()\n",
    "    decoder_optimizer.zero_grad()\n",
    "    loss = 0\n",
    "    for c in range(batch_size):\n",
    "        input_traj = input_batch[c]\n",
    "        hidden = encoderRNN.initHidden()\n",
    "        input_traj = Variable(input_traj) # if use_cuda else Variable(input_circle)\n",
    "\n",
    "\n",
    "        output_sequence_length = input_traj.size()[0] - input_sequence_length\n",
    "\n",
    "        encoderOutput = Variable(torch.zeros(input_sequence_length, 1, n_dim)) #if use_cuda else encoderOutput\n",
    "        decoderOutput = Variable(torch.zeros(output_sequence_length,1, n_dim)) #if use_cuda else decoderOutput\n",
    "\n",
    "        # Run the training sequence into the encoder\n",
    "        for i in range(input_sequence_length):\n",
    "            encoderOutput[i], hidden = encoderRNN(input_traj[i], hidden)\n",
    "\n",
    "        # Now the last hidden state of the encoder is the first hidden state of the decoder.\n",
    "        # For now, let's have the first input be the origin\n",
    "        for i in range(output_sequence_length):\n",
    "            if (i == 0):\n",
    "                dummyState = Variable(torch.zeros(1,n_dim)) # if use_cuda else Variable(torch.zeros(1,n_dim))\n",
    "                decoderOutput[i], hidden = decoderRNN(dummyState, hidden)\n",
    "            else:\n",
    "                decoderOutput[i], hidden = decoderRNN(decoderOutput[i-1], hidden)\n",
    "\n",
    "        # Loss is calculated only on the decoder output\n",
    "        loss += criterion(decoderOutput, input_traj[-(output_sequence_length):]) #.cuda())\n",
    "        \n",
    "    loss /= batch_size\n",
    "    loss.backward()\n",
    "    # Update parameters\n",
    "    encoder_optimizer.step()\n",
    "    decoder_optimizer.step()\n",
    "    \n",
    "    return loss.data[0]\n",
    "\n",
    "# Function for evaluating on validation and test sets\n",
    "def evaluate(input_traj):\n",
    "    hidden = encoderRNN.initHidden()\n",
    "    input_traj = Variable(input_traj) # if use_cuda else Variable(circle)    \n",
    "\n",
    "    output_sequence_length = input_traj.size()[0] - input_sequence_length\n",
    "    \n",
    "    encoderOutput = Variable(torch.zeros(input_sequence_length, 1, n_dim)) #if use_cuda else encoderOutput\n",
    "    decoderOutput = Variable(torch.zeros(output_sequence_length,1, n_dim)) #if use_cuda else decoderOutput\n",
    "    \n",
    "    # Run the point sequence into the encoder\n",
    "    for i in range(input_sequence_length):\n",
    "        encoderOutput[i], hidden = encoderRNN(input_traj[i], hidden)\n",
    "    \n",
    "    # Now the last hidden state of the encoder is the first hidden state of the decoder. (whats the input to the first)\n",
    "    # For now, let's have the first input be the origin\n",
    "    for i in range(output_sequence_length):\n",
    "        if (i == 0):\n",
    "            dummyState = Variable(torch.zeros(1,n_dim)) # if use_cuda else Variable(torch.zeros(1,n_dim))\n",
    "            decoderOutput[i], hidden = decoderRNN(dummyState, hidden)\n",
    "        else:\n",
    "            decoderOutput[i], hidden = decoderRNN(decoderOutput[i-1], hidden)\n",
    "    \n",
    "    loss = criterion(decoderOutput, input_traj[-(output_sequence_length):]) #.cuda())\n",
    "    return decoderOutput, loss.data[0]"
   ]
  },
  {
   "cell_type": "code",
   "execution_count": null,
   "metadata": {
    "scrolled": true
   },
   "outputs": [
    {
     "name": "stdout",
     "output_type": "stream",
     "text": [
      "Finished epoch [1 / 25]  with training loss 0.04746 and validation loss 0.03741\n",
      "0m 53s\n",
      "Finished epoch [2 / 25]  with training loss 0.02033 and validation loss 0.007303\n",
      "1m 46s\n",
      "Finished epoch [3 / 25]  with training loss 0.00708 and validation loss 0.005965\n",
      "2m 41s\n",
      "Finished epoch [9 / 25]  with training loss 0.001002 and validation loss 0.000533\n",
      "8m 7s\n",
      "Finished epoch [10 / 25]  with training loss 0.0007767 and validation loss 0.0004192\n",
      "9m 1s\n",
      "Finished epoch [11 / 25]  with training loss 0.000612 and validation loss 0.0003565\n",
      "9m 56s\n",
      "Finished epoch [12 / 25]  with training loss 0.000499 and validation loss 0.0003574\n",
      "10m 50s\n",
      "Finished epoch [13 / 25]  with training loss 0.0004281 and validation loss 0.000398\n",
      "11m 45s\n",
      "Finished epoch [14 / 25]  with training loss 0.0003781 and validation loss 0.000447\n",
      "12m 41s\n",
      "Finished epoch [15 / 25]  with training loss 0.0003419 and validation loss 0.0004366\n",
      "13m 36s\n"
     ]
    }
   ],
   "source": [
    "# Now, we are ready to train the model. Define some functions to help with plotting:\n",
    "import copy\n",
    "\n",
    "n_epochs = 25\n",
    "current_loss_train = 0\n",
    "current_loss_val = 0\n",
    "all_losses_train = []\n",
    "all_losses_val = []\n",
    "\n",
    "# Keep track of losses from plotting\n",
    "\n",
    "def timeSince(since):\n",
    "    now = time.time()\n",
    "    s = now - since\n",
    "    m = math.floor(s/60)\n",
    "    s -= m * 60\n",
    "    return '%dm %ds' % (m,s)\n",
    "\n",
    "start = time.time()\n",
    "for ep in range(n_epochs):\n",
    "    n_batches = len(training)/batch_size\n",
    "    for i in range(n_batches):\n",
    "        loss =  train(training[i*batch_size:((i+1)*batch_size)])\n",
    "        current_loss_train += loss/n_batches\n",
    "    if math.isnan(current_loss_train):\n",
    "        print(\"Stopped because loss exploded to NaN and will not converge\")\n",
    "        break\n",
    "\n",
    "    for c in range(len(val)):\n",
    "        pts, loss = evaluate(val[c])\n",
    "        current_loss_val += loss/len(val)\n",
    "    #Early Stopping\n",
    "\n",
    "    # Method 2: Stop if Generalization Loss > 10% (see Automatic Early Stopping Using Cross Validation: Quantifying the Criteria by\n",
    "    # Lutz Prechelt)\n",
    "#     if ((ep != 0)):\n",
    "#         if (current_loss_val/len(val) <= min(all_losses_val)):\n",
    "#             print(\"New min at epoch %d\" %(ep+1))\n",
    "#             bestEncoder = copy.deepcopy(encoderRNN)\n",
    "#             bestDecoder = copy.deepcopy(decoderRNN)\n",
    "#         gLoss = current_loss_val/len(val) * (1/min(all_losses_val)) * 100 - 100\n",
    "#         print(\"Generalization Loss at Epoch %d is %.3g\" % (ep + 1, gLoss))\n",
    "#         if (gLoss > earlyStoppingCriteria):\n",
    "#             print(\"Stopping Early on epoch %g\" % (ep+1))\n",
    "#             print(\"Validation loss was %.4g\" % (current_loss_val/len(val)))\n",
    "#             encoderRNN = bestEncoder\n",
    "#             decoderRNN = bestDecoder\n",
    "#             break\n",
    "        \n",
    "    all_losses_train.append(current_loss_train)\n",
    "    current_loss_train = 0\n",
    "    all_losses_val.append(current_loss_val)\n",
    "    current_loss_val = 0\n",
    "    print(\"Finished epoch [%d / %d]  with training loss %.4g and validation loss %.4g\" % (ep + 1, n_epochs,\n",
    "                                                                                         all_losses_train[ep],\n",
    "                                                                                          all_losses_val[ep]) )\n",
    "    print(timeSince(start))\n",
    "\n",
    "\n",
    "\n",
    "\n",
    "plt.plot(all_losses_train, 'r', label=\"Training Loss\")\n",
    "plt.plot(all_losses_val, 'b', label=\"Validation Loss\")\n",
    "plt.xlabel('Epoch')\n",
    "plt.ylabel('MSE Loss (log scale)')\n",
    "plt.yscale('log')\n",
    "plt.title('Loss over Epochs on %s set with Weight sigma = %.3f ' % (data_string, weight_std))\n",
    "plt.legend()\n",
    "#plt.savefig('circlePlots/loss_data_%s_wsd2_%.3f.png' % (data_string, math.pow(weight_std,2)))\n",
    "plt.show()"
   ]
  },
  {
   "cell_type": "code",
   "execution_count": 9,
   "metadata": {},
   "outputs": [
    {
     "data": {
      "image/png": "[encoded data removed]",
      "text/plain": [
       "<matplotlib.figure.Figure at 0x7ff973560710>"
      ]
     },
     "metadata": {},
     "output_type": "display_data"
    }
   ],
   "source": [
    "from mpl_toolkits.mplot3d import Axes3D\n",
    "testTraj = test[random.randint(0,len(test))]\n",
    "start_traj = testTraj.cpu().numpy()\n",
    "points, loss = evaluate(testTraj)\n",
    "end_traj = points.data.numpy()\n",
    "\n",
    "fig = plt.figure()\n",
    "ax = fig.gca(projection='3d')\n",
    "ax.plot(start_traj[0:1,0,0], start_traj[0:1,0,1], start_traj[0:1,0,2], 'gs', label='Start')\n",
    "ax.plot(start_traj[:,0,0], start_traj[:,0,1], start_traj[:,0,2], 'r', label='Ground Truth')\n",
    "ax.plot(end_traj[:,0,0], end_traj[:,0,1], end_traj[:,0,2], 'b.', label='Predictions')\n",
    "# plt.plot(start_traj[:,0,0], start_traj[:,0,1], 'rs', label='Target Points')\n",
    "# plt.plot(end_circle[:,0,0], end_circle[:,0,1], 'b.', label='Predicted Points')\n",
    "plt.legend()\n",
    "plt.title(\"Model Prediction on Example from %s and Weight sigma = %.3f\" %(data_string, weight_std))\n",
    "plt.xlabel('x')\n",
    "plt.ylabel('y')\n",
    "#plt.axes().set_aspect('equal', 'datalim')\n",
    "#plt.savefig('circlePlots/vis_data_%s_wsd2_%.3f.png' % (data_string, math.pow(weight_std,2))\n",
    "plt.show()         "
   ]
  },
  {
   "cell_type": "code",
   "execution_count": null,
   "metadata": {
    "collapsed": true
   },
   "outputs": [],
   "source": [
    "# Store the model somewhere\n",
    "#torch.save(encoderRNN.state_dict(), 'circleModel/%s_encoder_wsd2_%.3f' % (data_string,  math.pow(weight_std,2))\n",
    "#torch.save(decoderRNN.state_dict(), 'circleModel/%s_decoder_wsd2_%.3f' % (data_string,  math.pow(weight_std,2))"
   ]
  },
  {
   "cell_type": "code",
   "execution_count": 6,
   "metadata": {},
   "outputs": [
    {
     "name": "stdout",
     "output_type": "stream",
     "text": [
      "0.169403\n"
     ]
    },
    {
     "data": {
      "image/png": "[encoded data removed]",
      "text/plain": [
       "<matplotlib.figure.Figure at 0x7f06abeab4d0>"
      ]
     },
     "metadata": {},
     "output_type": "display_data"
    },
    {
     "name": "stdout",
     "output_type": "stream",
     "text": [
      "0.0806263\n"
     ]
    },
    {
     "data": {
      "image/png": "[encoded data removed]",
      "text/plain": [
       "<matplotlib.figure.Figure at 0x7f06ab6bc610>"
      ]
     },
     "metadata": {},
     "output_type": "display_data"
    }
   ],
   "source": [
    "for m in encoderRNN.modules():\n",
    "    if isinstance(m, torch.nn.Linear):\n",
    "        temp = m.weight.data.numpy()\n",
    "        print(np.amax(temp))\n",
    "#         temp = temp/np.amax(temp)\n",
    "        temp = temp.reshape(temp.size,1)\n",
    "        n, bins, patches = plt.hist(temp, 50, normed = 1)\n",
    "        plt.show()        "
   ]
  },
  {
   "cell_type": "code",
   "execution_count": null,
   "metadata": {
    "collapsed": true
   },
   "outputs": [],
   "source": []
  }
 ],
 "metadata": {
  "kernelspec": {
   "display_name": "Python 2",
   "language": "python",
   "name": "python2"
  },
  "language_info": {
   "codemirror_mode": {
    "name": "ipython",
    "version": 2
   },
   "file_extension": ".py",
   "mimetype": "text/x-python",
   "name": "python",
   "nbconvert_exporter": "python",
   "pygments_lexer": "ipython2",
   "version": "2.7.12"
  }
 },
 "nbformat": 4,
 "nbformat_minor": 2
}
